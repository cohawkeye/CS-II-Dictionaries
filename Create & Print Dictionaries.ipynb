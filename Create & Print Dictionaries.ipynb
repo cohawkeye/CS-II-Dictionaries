{
 "cells": [
  {
   "cell_type": "code",
   "execution_count": 1,
   "id": "07812ae8",
   "metadata": {},
   "outputs": [
    {
     "name": "stdout",
     "output_type": "stream",
     "text": [
      "{1: {'Mascot': 'Brewers', 'City': 'Milwaukee'}, 2: {'Mascot': 'Braves', 'City': 'Braves'}, 3: {'Mascot': 'Royals', 'City': 'Kansas City'}}\n"
     ]
    }
   ],
   "source": [
    "mlbTeams={\n",
    "    \n",
    "    1:{\"Mascot\": \"Brewers\", \"City\": \"Milwaukee\"},\n",
    "    2: {\"Mascot\": \"Braves\", \"City\": \"Braves\"},\n",
    "    3: {\"Mascot\": \"Royals\", \"City\": \"Kansas City\"}\n",
    "    \n",
    "}\n",
    "print(mlbTeams)"
   ]
  },
  {
   "cell_type": "code",
   "execution_count": 2,
   "id": "a083370a",
   "metadata": {},
   "outputs": [
    {
     "name": "stdout",
     "output_type": "stream",
     "text": [
      "Royals\n"
     ]
    }
   ],
   "source": [
    "kc=mlbTeams[3][\"Mascot\"]\n",
    "print(kc)"
   ]
  },
  {
   "cell_type": "code",
   "execution_count": 7,
   "id": "5cf03c3a",
   "metadata": {},
   "outputs": [
    {
     "name": "stdout",
     "output_type": "stream",
     "text": [
      "The Brewers play in Milwaukee\n",
      "The Braves play in Braves\n",
      "The Royals play in Kansas City\n"
     ]
    }
   ],
   "source": [
    "for teams in mlbTeams.values():\n",
    "    m=teams[\"Mascot\"]\n",
    "    t=teams[\"City\"]\n",
    "    print(f\"The {m} play in {t}\")"
   ]
  },
  {
   "cell_type": "code",
   "execution_count": 8,
   "id": "fd1777cb",
   "metadata": {},
   "outputs": [],
   "source": [
    "mlbTeams[4] = {\"Mascot\": \"Dodgers\", \"City\": \"Los Angeles\"}"
   ]
  },
  {
   "cell_type": "code",
   "execution_count": null,
   "id": "a39fecd0",
   "metadata": {},
   "outputs": [],
   "source": [
    "print()"
   ]
  }
 ],
 "metadata": {
  "kernelspec": {
   "display_name": "Python 3 (ipykernel)",
   "language": "python",
   "name": "python3"
  },
  "language_info": {
   "codemirror_mode": {
    "name": "ipython",
    "version": 3
   },
   "file_extension": ".py",
   "mimetype": "text/x-python",
   "name": "python",
   "nbconvert_exporter": "python",
   "pygments_lexer": "ipython3",
   "version": "3.9.7"
  }
 },
 "nbformat": 4,
 "nbformat_minor": 5
}
