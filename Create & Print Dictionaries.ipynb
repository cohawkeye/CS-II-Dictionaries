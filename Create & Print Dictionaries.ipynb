{
 "cells": [
  {
   "cell_type": "code",
   "execution_count": 1,
   "id": "fbef09c5",
   "metadata": {},
   "outputs": [
    {
     "name": "stdout",
     "output_type": "stream",
     "text": [
      "{1: {'Mascot': 'Brewers', 'City': 'Milwaukee'}, 2: {'Mascot': 'Braves', 'City': 'Braves'}, 3: {'Mascot': 'Royals', 'City': 'Kansas City'}}\n"
     ]
    }
   ],
   "source": [
    "#Create Dictionary and print out results\n",
    "mlbTeams={\n",
    "    \n",
    "    1:{\"Mascot\": \"Brewers\", \"City\": \"Milwaukee\"},\n",
    "    2: {\"Mascot\": \"Braves\", \"City\": \"Braves\"},\n",
    "    3: {\"Mascot\": \"Royals\", \"City\": \"Kansas City\"}\n",
    "    \n",
    "}\n",
    "print(mlbTeams)"
   ]
  },
  {
   "cell_type": "code",
   "execution_count": 2,
   "id": "bb7d6b27",
   "metadata": {},
   "outputs": [
    {
     "name": "stdout",
     "output_type": "stream",
     "text": [
      "Royals\n"
     ]
    }
   ],
   "source": [
    "#Print out single record\n",
    "kc=mlbTeams[3][\"Mascot\"]\n",
    "print(kc)"
   ]
  },
  {
   "cell_type": "code",
   "execution_count": 7,
   "id": "996883ea",
   "metadata": {},
   "outputs": [
    {
     "name": "stdout",
     "output_type": "stream",
     "text": [
      "The Brewers play in Milwaukee\n",
      "The Braves play in Braves\n",
      "The Royals play in Kansas City\n"
     ]
    }
   ],
   "source": [
    "#Print out items in a loop\n",
    "for teams in mlbTeams.values():\n",
    "    m=teams[\"Mascot\"]\n",
    "    t=teams[\"City\"]\n",
    "    print(f\"The {m} play in {t}\")"
   ]
  },
  {
   "cell_type": "code",
   "execution_count": 11,
   "id": "db9e8bf2",
   "metadata": {},
   "outputs": [
    {
     "name": "stdout",
     "output_type": "stream",
     "text": [
      "{1: {'Mascot': 'Brewers', 'City': 'Milwaukee'}, 2: {'Mascot': 'Braves', 'City': 'Braves'}, 3: {'Mascot': 'Royals', 'City': 'Kansas City'}, 4: {'Mascot': 'Dodgers', 'City': 'Los Angeles'}}\n"
     ]
    }
   ],
   "source": [
    "#Add a new record and print it\n",
    "mlbTeams[4] = {\"Mascot\": \"Dodgers\", \"City\": \"Los Angeles\"}\n",
    "print(mlbTeams)"
   ]
  },
  {
   "cell_type": "code",
   "execution_count": 14,
   "id": "14e8b6ea",
   "metadata": {},
   "outputs": [
    {
     "name": "stdout",
     "output_type": "stream",
     "text": [
      "Mascot? Tigers\n",
      "City? Detroit\n",
      "{1: {'Mascot': 'Brewers', 'City': 'Milwaukee'}, 2: {'Mascot': 'Braves', 'City': 'Braves'}, 3: {'Mascot': 'Royals', 'City': 'Kansas City'}, 4: {'Mascot': 'Dodgers', 'City': 'Los Angeles'}, 5: {'Mascot': 'Tigers', 'City': 'Detroit'}}\n"
     ]
    }
   ],
   "source": [
    "#Use input to add a new team to the Dictionary\n",
    "\n",
    "insMascot = input(\"Mascot? \")\n",
    "insCity = input(\"City? \")\n",
    "\n",
    "id = len(mlbTeams) + 1  # Find the next available ID\n",
    "mlbTeams[id] = {\"Mascot\": insMascot, \"City\": insCity}\n",
    "\n",
    "print(mlbTeams)"
   ]
  },
  {
   "cell_type": "code",
   "execution_count": 15,
   "id": "0cb54a8f",
   "metadata": {},
   "outputs": [
    {
     "name": "stdout",
     "output_type": "stream",
     "text": [
      "Mascot? Tigers\n",
      "City? Detroit\n",
      "{1: {'Mascot': 'Brewers', 'City': 'Milwaukee'}, 2: {'Mascot': 'Braves', 'City': 'Braves'}, 3: {'Mascot': 'Royals', 'City': 'Kansas City'}, 4: {'Mascot': 'Tigers', 'City': 'Detroit'}}\n"
     ]
    }
   ],
   "source": [
    "#Function to ADD a new team\n",
    "def add_team(mlb_teams):\n",
    "    ins_mascot = input(\"Mascot? \")\n",
    "    ins_city = input(\"City? \")\n",
    "\n",
    "    team_id = len(mlb_teams) + 1\n",
    "    mlb_teams[team_id] = {\"Mascot\": ins_mascot, \"City\": ins_city}\n",
    "\n",
    "    return mlb_teams\n",
    "\n",
    "# Example usage:\n",
    "mlbTeams = {\n",
    "    1: {\"Mascot\": \"Brewers\", \"City\": \"Milwaukee\"},\n",
    "    2: {\"Mascot\": \"Braves\", \"City\": \"Braves\"},\n",
    "    3: {\"Mascot\": \"Royals\", \"City\": \"Kansas City\"}\n",
    "}\n",
    "\n",
    "mlbTeams = add_team(mlbTeams)\n",
    "print(mlbTeams)\n"
   ]
  },
  {
   "cell_type": "code",
   "execution_count": null,
   "id": "6c875bed",
   "metadata": {},
   "outputs": [],
   "source": [
    "#Insert data manually\n",
    "mlbTeams[4] = {\"Mascot\": \"Dodgers\", \"City\": \"Los Angeles\"}\n",
    "print(mlbTeams)"
   ]
  },
  {
   "cell_type": "code",
   "execution_count": null,
   "id": "eef60e2b",
   "metadata": {},
   "outputs": [],
   "source": [
    "# Adding entries with inputs\n",
    "teamID = len(mlbTeams) + 1\n",
    "insertMas = input(\"What is the name of the Mascot? \")\n",
    "insertCity = input(\"What is the name of the City ? \")\n",
    "mlbTeams[teamID] = {\"Mascot\": insertMas, \"City\": insertCity}\n",
    "print(mlbTeams)"
   ]
  },
  {
   "cell_type": "code",
   "execution_count": null,
   "id": "7503a9dc",
   "metadata": {},
   "outputs": [],
   "source": [
    "#Adding data with a function \n",
    "def addTeam(mlbTeams):\n",
    "    newCity = input(\"What is the City? \")\n",
    "    newMas = input(\"What is the Mascot? \")\n",
    "    newID = len(mlbTeams) + 1\n",
    "    mlbTeams[newID] = {\"Mascot\": newMas, \"City\": newCity}\n",
    "    return mlbTeams\n",
    "\n",
    "\n",
    "mlbTeams = addTeam(mlbTeams)\n",
    "\n",
    "print(mlbTeams)"
   ]
  },
  {
   "cell_type": "code",
   "execution_count": null,
   "id": "924c44b2",
   "metadata": {},
   "outputs": [],
   "source": [
    "#Deleting an entry\n",
    "del mlbTeams[4]"
   ]
  },
  {
   "cell_type": "code",
   "execution_count": null,
   "id": "70cc5478",
   "metadata": {},
   "outputs": [],
   "source": [
    "#Deleting a team with a function \n",
    "\n",
    "def deleteTeam(dict, target):\n",
    "    if target in dict:\n",
    "        del dict[target]\n",
    "        print(f\"Team {target} has been deleted\")\n",
    "\n",
    "\n",
    "teamToDelete = int(input(\"# ? \"))\n",
    "\n",
    "deleteTeam(mlbTeams, teamToDelete)\n",
    "print(mlbTeams)"
   ]
  },
  {
   "cell_type": "code",
   "execution_count": null,
   "id": "4344cd9d",
   "metadata": {},
   "outputs": [],
   "source": [
    "#Searching for a record\n",
    "target=input(\"What city are you looking for? \")\n",
    "def searchFunction(target, mlbTeams):\n",
    "    \n",
    "    found=False\n",
    "    for keys, value in mlbTeams.items():\n",
    "        if target.lower()==value[\"City\"].lower():\n",
    "            #print(\"found\")\n",
    "            found=True\n",
    "            \n",
    "    return found\n",
    "\n",
    "\n",
    "results=searchFunction(target, mlbTeams)\n",
    "if results==True:\n",
    "    print(f\"We found the search result of {target}\")\n",
    "else:\n",
    "    print(\"We did not find your search target.\")"
   ]
  }
 ],
 "metadata": {
  "kernelspec": {
   "display_name": "Python 3 (ipykernel)",
   "language": "python",
   "name": "python3"
  },
  "language_info": {
   "codemirror_mode": {
    "name": "ipython",
    "version": 3
   },
   "file_extension": ".py",
   "mimetype": "text/x-python",
   "name": "python",
   "nbconvert_exporter": "python",
   "pygments_lexer": "ipython3",
   "version": "3.9.7"
  }
 },
 "nbformat": 4,
 "nbformat_minor": 5
}
